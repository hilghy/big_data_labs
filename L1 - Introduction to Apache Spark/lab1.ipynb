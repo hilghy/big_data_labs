{
  "cells": [
    {
      "cell_type": "code",
      "execution_count": 2,
      "id": "7a81e7f8-c079-451d-9edf-b9763666a9c2",
      "metadata": {
        "colab": {
          "base_uri": "https://localhost:8080/",
          "height": 508
        },
        "id": "7a81e7f8-c079-451d-9edf-b9763666a9c2",
        "outputId": "acaa3260-b09b-445a-feab-c0bbfa6c9804"
      },
      "outputs": [
        {
          "output_type": "stream",
          "name": "stdout",
          "text": [
            "Collecting pyspark==3.0.0\n",
            "  Downloading pyspark-3.0.0.tar.gz (204.7 MB)\n",
            "\u001b[2K     \u001b[90m━━━━━━━━━━━━━━━━━━━━━━━━━━━━━━━━━━━━━━━━\u001b[0m \u001b[32m204.7/204.7 MB\u001b[0m \u001b[31m5.7 MB/s\u001b[0m eta \u001b[36m0:00:00\u001b[0m\n",
            "\u001b[?25h  Preparing metadata (setup.py) ... \u001b[?25l\u001b[?25hdone\n",
            "Collecting py4j==0.10.9 (from pyspark==3.0.0)\n",
            "  Downloading py4j-0.10.9-py2.py3-none-any.whl (198 kB)\n",
            "\u001b[2K     \u001b[90m━━━━━━━━━━━━━━━━━━━━━━━━━━━━━━━━━━━━━━━━\u001b[0m \u001b[32m198.6/198.6 kB\u001b[0m \u001b[31m18.1 MB/s\u001b[0m eta \u001b[36m0:00:00\u001b[0m\n",
            "\u001b[?25hBuilding wheels for collected packages: pyspark\n",
            "  Building wheel for pyspark (setup.py) ... \u001b[?25l\u001b[?25hdone\n",
            "  Created wheel for pyspark: filename=pyspark-3.0.0-py2.py3-none-any.whl size=205044159 sha256=bfe975210ec23b29881ec110ca1a3bfbce5552f9ea4c5c44928aaafbb635a657\n",
            "  Stored in directory: /root/.cache/pip/wheels/b1/bb/8b/ca24d3f756f2ed967225b0871898869db676eb5846df5adc56\n",
            "Successfully built pyspark\n",
            "Installing collected packages: py4j, pyspark\n",
            "  Attempting uninstall: py4j\n",
            "    Found existing installation: py4j 0.10.9.7\n",
            "    Uninstalling py4j-0.10.9.7:\n",
            "      Successfully uninstalled py4j-0.10.9.7\n",
            "Successfully installed py4j-0.10.9 pyspark-3.0.0\n"
          ]
        },
        {
          "output_type": "execute_result",
          "data": {
            "text/plain": [
              "<SparkContext master=local[1] appName=Lab1>"
            ],
            "text/html": [
              "\n",
              "        <div>\n",
              "            <p><b>SparkContext</b></p>\n",
              "\n",
              "            <p><a href=\"http://e44ab50edc50:4040\">Spark UI</a></p>\n",
              "\n",
              "            <dl>\n",
              "              <dt>Version</dt>\n",
              "                <dd><code>v3.0.0</code></dd>\n",
              "              <dt>Master</dt>\n",
              "                <dd><code>local[1]</code></dd>\n",
              "              <dt>AppName</dt>\n",
              "                <dd><code>Lab1</code></dd>\n",
              "            </dl>\n",
              "        </div>\n",
              "        "
            ]
          },
          "metadata": {},
          "execution_count": 2
        }
      ],
      "source": [
        "!pip install pyspark==3.0.0\n",
        "from pyspark import SparkContext, SparkConf\n",
        "app_name = 'Lab1'\n",
        "conf = SparkConf().setAppName(app_name).setMaster('local[1]')\n",
        "sc = SparkContext(conf=conf)\n",
        "sc"
      ]
    },
    {
      "cell_type": "code",
      "source": [
        "from typing import NamedTuple\n",
        "from datetime import datetime\n",
        "from functools import reduce"
      ],
      "metadata": {
        "id": "yGFOinzzabCw"
      },
      "id": "yGFOinzzabCw",
      "execution_count": 19,
      "outputs": []
    },
    {
      "cell_type": "code",
      "execution_count": 3,
      "id": "90253152-5d9e-4739-85b5-21e77c37803e",
      "metadata": {
        "id": "90253152-5d9e-4739-85b5-21e77c37803e"
      },
      "outputs": [],
      "source": [
        "def initStation(stations):\n",
        "    class Station(NamedTuple):\n",
        "        station_id: int\n",
        "        name: str\n",
        "        lat: float\n",
        "        long: float\n",
        "        dockcount: int\n",
        "        landmark: str\n",
        "        installation: str\n",
        "\n",
        "    for station in stations:\n",
        "        yield Station(\n",
        "            station_id = int(station[0]),\n",
        "            name = station[1],\n",
        "            lat = float(station[2]),\n",
        "            long = float(station[3]),\n",
        "            dockcount = int(station[4]),\n",
        "            landmark = station[5],\n",
        "            installation = datetime.strptime(station[6], '%m/%d/%Y')\n",
        "        )\n",
        "\n",
        "def initTrip(trips):\n",
        "    class Trip(NamedTuple):\n",
        "        trip_id: int\n",
        "        duration: int\n",
        "        start_date: datetime\n",
        "        start_station_name: str\n",
        "        start_station_id: int\n",
        "        end_date: datetime\n",
        "        end_station_name: str\n",
        "        end_station_id: int\n",
        "        bike_id: int\n",
        "        subscription_type: str\n",
        "        zip_code: str\n",
        "\n",
        "    for trip in trips:\n",
        "        try:\n",
        "            yield Trip(\n",
        "             trip_id = int(trip[0]),\n",
        "             duration = int(trip[1]),\n",
        "             start_date = datetime.strptime(trip[2], '%m/%d/%Y %H:%M'),\n",
        "             start_station_name = trip[3],\n",
        "             start_station_id = int(trip[4]),\n",
        "             end_date = datetime.strptime(trip[5], '%m/%d/%Y %H:%M'),\n",
        "             end_station_name = trip[6],\n",
        "             end_station_id = trip[7],\n",
        "             bike_id = int(trip[8]),\n",
        "             subscription_type = trip[9],\n",
        "             zip_code = trip[10]\n",
        "            )\n",
        "        except:\n",
        "            pass"
      ]
    },
    {
      "cell_type": "code",
      "execution_count": 12,
      "id": "f7d74936-afda-4380-979b-bb1ba3468b55",
      "metadata": {
        "id": "f7d74936-afda-4380-979b-bb1ba3468b55"
      },
      "outputs": [],
      "source": [
        "trip_data = sc.textFile('trip.csv')\n",
        "station_data = sc.textFile('station.csv')"
      ]
    },
    {
      "cell_type": "code",
      "execution_count": 14,
      "id": "fdf1cbc3-5530-4a01-896b-47e396aeb868",
      "metadata": {
        "id": "fdf1cbc3-5530-4a01-896b-47e396aeb868"
      },
      "outputs": [],
      "source": [
        "def get_data_without_headers(data):\n",
        "    headers = data.first()\n",
        "    table_data = data.filter(lambda row: row != headers).map(lambda row: row.split(\",\"))\n",
        "    return table_data"
      ]
    },
    {
      "cell_type": "code",
      "execution_count": 15,
      "id": "8d190c69-d39d-483c-96e1-ed6fccccf017",
      "metadata": {
        "id": "8d190c69-d39d-483c-96e1-ed6fccccf017"
      },
      "outputs": [],
      "source": [
        "trips = get_data_without_headers(trip_data)\n",
        "stations = get_data_without_headers(station_data)"
      ]
    },
    {
      "cell_type": "code",
      "execution_count": 16,
      "id": "0d3c4def-c533-43ab-9ef3-a049a4771b7e",
      "metadata": {
        "colab": {
          "base_uri": "https://localhost:8080/"
        },
        "id": "0d3c4def-c533-43ab-9ef3-a049a4771b7e",
        "outputId": "c9ee51cd-e9ff-43fe-ee96-dbb0580a7941"
      },
      "outputs": [
        {
          "output_type": "execute_result",
          "data": {
            "text/plain": [
              "[['4576',\n",
              "  '63',\n",
              "  '8/29/2013 14:13',\n",
              "  'South Van Ness at Market',\n",
              "  '66',\n",
              "  '8/29/2013 14:14',\n",
              "  'South Van Ness at Market',\n",
              "  '66',\n",
              "  '520',\n",
              "  'Subscriber',\n",
              "  '94127'],\n",
              " ['4607',\n",
              "  '70',\n",
              "  '8/29/2013 14:42',\n",
              "  'San Jose City Hall',\n",
              "  '10',\n",
              "  '8/29/2013 14:43',\n",
              "  'San Jose City Hall',\n",
              "  '10',\n",
              "  '661',\n",
              "  'Subscriber',\n",
              "  '95138'],\n",
              " ['4130',\n",
              "  '71',\n",
              "  '8/29/2013 10:16',\n",
              "  'Mountain View City Hall',\n",
              "  '27',\n",
              "  '8/29/2013 10:17',\n",
              "  'Mountain View City Hall',\n",
              "  '27',\n",
              "  '48',\n",
              "  'Subscriber',\n",
              "  '97214']]"
            ]
          },
          "metadata": {},
          "execution_count": 16
        }
      ],
      "source": [
        "trips.take(3)"
      ]
    },
    {
      "cell_type": "code",
      "execution_count": 26,
      "id": "70f4edf2-040e-4dc1-a368-16bf04b56340",
      "metadata": {
        "id": "70f4edf2-040e-4dc1-a368-16bf04b56340"
      },
      "outputs": [],
      "source": [
        "stations_mapped = stations.mapPartitions(initStation)\n",
        "trips_mapped= trips.mapPartitions(initTrip)"
      ]
    },
    {
      "cell_type": "code",
      "execution_count": 31,
      "id": "4e45c96e-0852-45be-bda1-89a47cfd293e",
      "metadata": {
        "colab": {
          "base_uri": "https://localhost:8080/"
        },
        "id": "4e45c96e-0852-45be-bda1-89a47cfd293e",
        "outputId": "878c6d9e-52ac-4494-8824-a9e14765bc14"
      },
      "outputs": [
        {
          "output_type": "execute_result",
          "data": {
            "text/plain": [
              "Station(station_id=2, name='San Jose Diridon Caltrain Station', lat=37.329732, long=-121.90178200000001, dockcount=27, landmark='San Jose', installation=datetime.datetime(2013, 8, 6, 0, 0))"
            ]
          },
          "metadata": {},
          "execution_count": 31
        }
      ],
      "source": [
        "stations_mapped.first()"
      ]
    },
    {
      "cell_type": "code",
      "execution_count": 32,
      "id": "8ffc4838-df68-4a5f-bb12-017ae46923ca",
      "metadata": {
        "colab": {
          "base_uri": "https://localhost:8080/"
        },
        "id": "8ffc4838-df68-4a5f-bb12-017ae46923ca",
        "outputId": "704e91cf-9ff7-439c-af70-c80eb3f4df1e"
      },
      "outputs": [
        {
          "output_type": "execute_result",
          "data": {
            "text/plain": [
              "Trip(trip_id=4576, duration=63, start_date=datetime.datetime(2013, 8, 29, 14, 13), start_station_name='South Van Ness at Market', start_station_id=66, end_date=datetime.datetime(2013, 8, 29, 14, 14), end_station_name='South Van Ness at Market', end_station_id='66', bike_id=520, subscription_type='Subscriber', zip_code='94127')"
            ]
          },
          "metadata": {},
          "execution_count": 32
        }
      ],
      "source": [
        "trips_mapped.first()"
      ]
    },
    {
      "cell_type": "markdown",
      "id": "ce9a15b7-54b8-46b2-ab03-4d0cdddf6b32",
      "metadata": {
        "id": "ce9a15b7-54b8-46b2-ab03-4d0cdddf6b32"
      },
      "source": [
        "# 1. Найти велосипед с максимальным временем пробега."
      ]
    },
    {
      "cell_type": "code",
      "execution_count": 33,
      "id": "39537d49-5256-4e75-8f16-ae615b5df9cb",
      "metadata": {
        "colab": {
          "base_uri": "https://localhost:8080/"
        },
        "id": "39537d49-5256-4e75-8f16-ae615b5df9cb",
        "outputId": "87728e9a-9874-49ce-f047-a0400eb31c44"
      },
      "outputs": [
        {
          "output_type": "execute_result",
          "data": {
            "text/plain": [
              "535"
            ]
          },
          "metadata": {},
          "execution_count": 33
        }
      ],
      "source": [
        "bike_max_mileage = trips_mapped.keyBy(lambda x: x.bike_id)\n",
        "bike_duration = bike_max_mileage.mapValues(lambda x: x.duration).reduceByKey(lambda x1, x2: x1 + x2)\n",
        "bike_duration_top = bike_duration.top(1, key=lambda x: x[1])[0][0]\n",
        "bike_duration_top"
      ]
    },
    {
      "cell_type": "markdown",
      "id": "b5ec529e-001c-4d0a-91fb-ba2e716af795",
      "metadata": {
        "id": "b5ec529e-001c-4d0a-91fb-ba2e716af795"
      },
      "source": [
        "# 2. Найти наибольшее геодезическое расстояние между станциями."
      ]
    },
    {
      "cell_type": "code",
      "execution_count": 34,
      "id": "a5cd6b82-7813-4e7e-a093-439611b15494",
      "metadata": {
        "colab": {
          "base_uri": "https://localhost:8080/"
        },
        "id": "a5cd6b82-7813-4e7e-a093-439611b15494",
        "outputId": "b43be0f1-91a3-4798-9741-03eae41c63a7"
      },
      "outputs": [
        {
          "output_type": "execute_result",
          "data": {
            "text/plain": [
              "Trip(trip_id=4576, duration=63, start_date=datetime.datetime(2013, 8, 29, 14, 13), start_station_name='South Van Ness at Market', start_station_id=66, end_date=datetime.datetime(2013, 8, 29, 14, 14), end_station_name='South Van Ness at Market', end_station_id='66', bike_id=520, subscription_type='Subscriber', zip_code='94127')"
            ]
          },
          "metadata": {},
          "execution_count": 34
        }
      ],
      "source": [
        "trips_mapped.first()"
      ]
    },
    {
      "cell_type": "code",
      "execution_count": 35,
      "id": "b26de22d-5acf-43db-bad0-2feea64ef658",
      "metadata": {
        "colab": {
          "base_uri": "https://localhost:8080/"
        },
        "id": "b26de22d-5acf-43db-bad0-2feea64ef658",
        "outputId": "e3d54af0-51c7-49b9-939b-fa200cdff05e"
      },
      "outputs": [
        {
          "output_type": "execute_result",
          "data": {
            "text/plain": [
              "[((66, '67'), 83),\n",
              " ((4, '5'), 109),\n",
              " ((10, '11'), 114),\n",
              " ((49, '54'), 125),\n",
              " ((6, '4'), 126)]"
            ]
          },
          "metadata": {},
          "execution_count": 35
        }
      ],
      "source": [
        "trips_stations = trips_mapped.filter(lambda trip: str(trip.start_station_id) != str(trip.end_station_id))\\\n",
        "                             .keyBy(lambda trip: (trip.start_station_id, trip.end_station_id))\\\n",
        "                             .mapValues(lambda trip: trip.duration)\n",
        "trips_stations.take(5)"
      ]
    },
    {
      "cell_type": "code",
      "execution_count": 36,
      "id": "2160a6d4-c631-4e1e-8b94-2105e685a6a3",
      "metadata": {
        "id": "2160a6d4-c631-4e1e-8b94-2105e685a6a3"
      },
      "outputs": [],
      "source": [
        "query = trips_stations\\\n",
        "    .aggregateByKey(\n",
        "        (0.0, 0.0),\n",
        "        lambda acc, value: (acc[0] + value, acc[1] + 1),\n",
        "        lambda acc1, acc2: (acc1[0] + acc2[0], acc1[1] + acc2[1]),)\\\n",
        "    .mapValues(lambda values: values[0] / values[1])"
      ]
    },
    {
      "cell_type": "code",
      "execution_count": 37,
      "id": "806a40c6-12ef-42a0-9aee-35c153c27497",
      "metadata": {
        "colab": {
          "base_uri": "https://localhost:8080/"
        },
        "id": "806a40c6-12ef-42a0-9aee-35c153c27497",
        "outputId": "8d015527-6618-4dba-c9a1-ddeb3b061d4f"
      },
      "outputs": [
        {
          "output_type": "execute_result",
          "data": {
            "text/plain": [
              "[(229914.0, (26, '16')),\n",
              " (179212.5, (32, '63')),\n",
              " (169308.0, (80, '36')),\n",
              " (156461.03603603604, (66, '62')),\n",
              " (101207.5, (28, '2'))]"
            ]
          },
          "metadata": {},
          "execution_count": 37
        }
      ],
      "source": [
        "query.map(lambda x: x[::-1]).top(5)"
      ]
    },
    {
      "cell_type": "markdown",
      "id": "8ba08211-a70d-4621-a998-944b847fb752",
      "metadata": {
        "id": "8ba08211-a70d-4621-a998-944b847fb752"
      },
      "source": [
        "# 3. Найти путь велосипеда с максимальным временем пробега через станции."
      ]
    },
    {
      "cell_type": "code",
      "execution_count": 38,
      "id": "9de4d182-e93b-463d-8c6b-7d6858f3773d",
      "metadata": {
        "colab": {
          "base_uri": "https://localhost:8080/"
        },
        "id": "9de4d182-e93b-463d-8c6b-7d6858f3773d",
        "outputId": "8b05e1d5-40cd-4041-9604-0a81734bf8e6"
      },
      "outputs": [
        {
          "output_type": "execute_result",
          "data": {
            "text/plain": [
              "('Post at Kearney', 'San Francisco Caltrain (Townsend at 4th)')"
            ]
          },
          "metadata": {},
          "execution_count": 38
        }
      ],
      "source": [
        "bike_path = trips_mapped.filter(lambda x: x.bike_id == bike_duration_top)\\\n",
        "                        .sortBy(lambda x: x.start_date)\\\n",
        "                        .map(lambda x: (x.start_station_name, x.end_station_name))\n",
        "\n",
        "bike_path.first()"
      ]
    },
    {
      "cell_type": "markdown",
      "id": "515f70f0-0b35-4e17-a682-330d9c3bf154",
      "metadata": {
        "tags": [],
        "id": "515f70f0-0b35-4e17-a682-330d9c3bf154"
      },
      "source": [
        "# 4. Найти количество велосипедов в системе."
      ]
    },
    {
      "cell_type": "code",
      "execution_count": 39,
      "id": "3be03487-4ea9-4b9d-98dd-be6567dae828",
      "metadata": {
        "colab": {
          "base_uri": "https://localhost:8080/"
        },
        "id": "3be03487-4ea9-4b9d-98dd-be6567dae828",
        "outputId": "2f6a3d81-a582-45ca-f708-2ff69e576759"
      },
      "outputs": [
        {
          "output_type": "execute_result",
          "data": {
            "text/plain": [
              "700"
            ]
          },
          "metadata": {},
          "execution_count": 39
        }
      ],
      "source": [
        "count_bikes = trips_mapped.map(lambda x: x.bike_id).distinct().count()\n",
        "count_bikes"
      ]
    },
    {
      "cell_type": "markdown",
      "id": "1e8d99a9-4e08-4177-9a92-52154cebdc3f",
      "metadata": {
        "id": "1e8d99a9-4e08-4177-9a92-52154cebdc3f"
      },
      "source": [
        "# 5. Найти пользователей потративших на поездки более 3 часов."
      ]
    },
    {
      "cell_type": "code",
      "execution_count": 40,
      "id": "8ae802fb-774d-4ef4-8553-7a8a0f72d441",
      "metadata": {
        "colab": {
          "base_uri": "https://localhost:8080/"
        },
        "id": "8ae802fb-774d-4ef4-8553-7a8a0f72d441",
        "outputId": "9660436c-e344-4417-e8f7-40d38d0b9de9"
      },
      "outputs": [
        {
          "output_type": "execute_result",
          "data": {
            "text/plain": [
              "['58553',\n",
              " '94301',\n",
              " '94039',\n",
              " '94133',\n",
              " '93726',\n",
              " '94123',\n",
              " '4517',\n",
              " '29200',\n",
              " '45322',\n",
              " '94080']"
            ]
          },
          "metadata": {},
          "execution_count": 40
        }
      ],
      "source": [
        "users = trips_mapped.filter(lambda x: x.duration > (3 * 60 * 60))\\\n",
        "                    .map(lambda x: x.zip_code)\\\n",
        "                    .filter(lambda x: x != \"\")\\\n",
        "                    .distinct()\n",
        "users.take(10)"
      ]
    }
  ],
  "metadata": {
    "kernelspec": {
      "display_name": "Python 3 (ipykernel)",
      "language": "python",
      "name": "python3"
    },
    "language_info": {
      "codemirror_mode": {
        "name": "ipython",
        "version": 3
      },
      "file_extension": ".py",
      "mimetype": "text/x-python",
      "name": "python",
      "nbconvert_exporter": "python",
      "pygments_lexer": "ipython3",
      "version": "3.12.1"
    },
    "colab": {
      "provenance": []
    }
  },
  "nbformat": 4,
  "nbformat_minor": 5
}